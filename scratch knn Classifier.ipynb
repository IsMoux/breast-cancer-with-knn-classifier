{
 "cells": [
  {
   "cell_type": "code",
   "execution_count": 7,
   "metadata": {},
   "outputs": [],
   "source": [
    "import numpy as np\n",
    "from collections import Counter"
   ]
  },
  {
   "cell_type": "code",
   "execution_count": 8,
   "metadata": {},
   "outputs": [],
   "source": [
    "def euclidean_dis(x1,x2):\n",
    "    np.sqrt(np.sum(x1-x2)**2)"
   ]
  },
  {
   "cell_type": "code",
   "execution_count": null,
   "metadata": {},
   "outputs": [],
   "source": [
    "class KNN:\n",
    "    def __init__(self, k=3):\n",
    "        self.k=k\n",
    "\n",
    "    def fit(self,X,y):\n",
    "        self.Xtrain=X\n",
    "        self.ytrain=y\n",
    "\n",
    "\n",
    "    def predict(self,X):\n",
    "        predicted_labels=[self._predict(x) for x in X]\n",
    "        return np.array(predicted_labels)\n",
    "\n",
    "    \n",
    "\n",
    "    def _predict(self, X):\n",
    "        #calculer distance\n",
    "        distances=[euclidean_dis(X,xtrain) for xtrain in self.Xtrain ]\n",
    "        # avoir les les proches voisins et leur label\n",
    "        k_indice=np.argsort(distances)[:self.k]\n",
    "        k_neartest_labels=[self.ytrain[i] for i in k_indice] \n",
    "        #vote de majorité\n",
    "        majorite=Counter(k_neartest_labels).most_common(1)\n",
    "        return majorite[0][0]   \n",
    "\n",
    "         \n",
    "        "
   ]
  },
  {
   "cell_type": "code",
   "execution_count": null,
   "metadata": {},
   "outputs": [],
   "source": []
  }
 ],
 "metadata": {
  "kernelspec": {
   "display_name": "Python 3",
   "language": "python",
   "name": "python3"
  },
  "language_info": {
   "codemirror_mode": {
    "name": "ipython",
    "version": 3
   },
   "file_extension": ".py",
   "mimetype": "text/x-python",
   "name": "python",
   "nbconvert_exporter": "python",
   "pygments_lexer": "ipython3",
   "version": "3.9.6"
  },
  "orig_nbformat": 4,
  "vscode": {
   "interpreter": {
    "hash": "c25269a4018224bb4e3cb6b79397037e31419b0dedc1b97e47175df2e08dbf7b"
   }
  }
 },
 "nbformat": 4,
 "nbformat_minor": 2
}
